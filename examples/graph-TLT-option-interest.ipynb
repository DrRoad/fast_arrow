{
 "cells": [
  {
   "cell_type": "code",
   "execution_count": 65,
   "metadata": {},
   "outputs": [],
   "source": [
    "import configparser\n",
    "from fast_arrow import (\n",
    "    Auth,\n",
    "    Stock,\n",
    "    OptionChain,\n",
    "    Option\n",
    ")\n",
    "\n",
    "# \n",
    "# import other libraries\n",
    "# \n",
    "import pandas as pd\n",
    "import json\n",
    "import configparser\n",
    "import seaborn as sns\n",
    "from matplotlib import pyplot as plt\n",
    "\n",
    "# \n",
    "# configure matplot lib for rendering in jupyter notebooks\n",
    "# \n",
    "%matplotlib inline\n",
    "\n",
    "\n",
    "# \n",
    "# hide the warnings so the graphs \n",
    "import warnings\n",
    "warnings.filterwarnings('ignore')"
   ]
  },
  {
   "cell_type": "code",
   "execution_count": 66,
   "metadata": {},
   "outputs": [],
   "source": [
    "#\n",
    "# get the authentication configs\n",
    "#\n",
    "config_file = \"../config.debug.ini\"\n",
    "config = configparser.ConfigParser()\n",
    "config.read(config_file)\n",
    "username = config['account']['username']\n",
    "password = config['account']['password']\n",
    "\n",
    "\n",
    "#\n",
    "# login and get the bearer token\n",
    "#\n",
    "token = Auth.login(username, password)\n",
    "bearer = Auth.get_oauth_token(token)"
   ]
  },
  {
   "cell_type": "code",
   "execution_count": 77,
   "metadata": {},
   "outputs": [],
   "source": [
    "#\n",
    "# fetch the stock info for TLT\n",
    "#\n",
    "symbol = \"TLT\"\n",
    "stock = Stock.fetch(bearer, symbol)\n",
    "\n",
    "\n",
    "#\n",
    "# get the TLT option chain info\n",
    "#\n",
    "stock_id = stock[\"id\"]\n",
    "option_chain = OptionChain.fetch(bearer, stock_id)\n",
    "option_chain_id = option_chain[\"id\"]\n",
    "expiration_dates = option_chain['expiration_dates']"
   ]
  },
  {
   "cell_type": "code",
   "execution_count": 78,
   "metadata": {},
   "outputs": [],
   "source": [
    "#\n",
    "# reduce the number of expiration dates we're interested in\n",
    "#\n",
    "next_3_expiration_dates = expiration_dates[0:3]"
   ]
  },
  {
   "cell_type": "code",
   "execution_count": 79,
   "metadata": {},
   "outputs": [],
   "source": [
    "#\n",
    "# get all options on the TLT option chain\n",
    "#\n",
    "ops = Option.in_chain(bearer, option_chain_id, expiration_dates=next_3_expiration_dates)\n",
    "\n",
    "#\n",
    "# merge in market data fro TLT option instruments\n",
    "#\n",
    "ops = Option.mergein_marketdata_list(bearer, ops)"
   ]
  },
  {
   "cell_type": "code",
   "execution_count": 95,
   "metadata": {},
   "outputs": [],
   "source": [
    "df = pd.DataFrame.from_dict(ops)"
   ]
  },
  {
   "cell_type": "code",
   "execution_count": 96,
   "metadata": {},
   "outputs": [],
   "source": [
    "# \n",
    "# fix the data\n",
    "# \n",
    "df.strike_price = pd.to_numeric(df.strike_price, errors='coerce')"
   ]
  },
  {
   "cell_type": "code",
   "execution_count": 99,
   "metadata": {},
   "outputs": [],
   "source": [
    "# \n",
    "# select the data we want to chart\n",
    "# \n",
    "ddf = df\n",
    "ddf = ddf[ ddf.expiration_date == '2018-08-31']\n",
    "ddf = ddf[ ddf.strike_price.ge(118.0) ]\n",
    "ddf = ddf[ ddf.strike_price.le(125.0) ]"
   ]
  },
  {
   "cell_type": "code",
   "execution_count": 105,
   "metadata": {},
   "outputs": [
    {
     "data": {
      "image/png": "[encoded data removed]",
      "text/plain": [
       "<Figure size 576x576 with 1 Axes>"
      ]
     },
     "metadata": {},
     "output_type": "display_data"
    }
   ],
   "source": [
    "# ax = sns.regplot(x=\"strike_price\", y=\"open_interest\", data=ddf)\n",
    "\n",
    "g = sns.catplot(x=\"strike_price\", y=\"open_interest\", data=ddf,height=6, kind=\"bar\", palette=\"muted\")"
   ]
  }
 ],
 "metadata": {
  "kernelspec": {
   "display_name": "3.6.1 fast_arrow",
   "language": "python",
   "name": "fast_arrow"
  },
  "language_info": {
   "codemirror_mode": {
    "name": "ipython",
    "version": 3
   },
   "file_extension": ".py",
   "mimetype": "text/x-python",
   "name": "python",
   "nbconvert_exporter": "python",
   "pygments_lexer": "ipython3",
   "version": "3.6.1"
  }
 },
 "nbformat": 4,
 "nbformat_minor": 2
}
